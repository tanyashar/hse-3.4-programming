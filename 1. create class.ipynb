{
 "cells": [
  {
   "cell_type": "code",
   "execution_count": 1,
   "metadata": {},
   "outputs": [],
   "source": [
    "class triangle:\n",
    "    def __init__(self, lst):\n",
    "        self.st = lst\n",
    "        #st = количество сторон\n",
    "        \n",
    "    def perimeter(self):\n",
    "        print('perimeter equals', sum(self.st))\n",
    "    \n",
    "    def __str__(self):\n",
    "        return 'number of angles equal '+ len(self.st)\n",
    " "
   ]
  },
  {
   "cell_type": "code",
   "execution_count": 2,
   "metadata": {},
   "outputs": [
    {
     "name": "stdout",
     "output_type": "stream",
     "text": [
      "perimeter equals 6\n"
     ]
    },
    {
     "ename": "TypeError",
     "evalue": "must be str, not int",
     "output_type": "error",
     "traceback": [
      "\u001b[1;31m---------------------------------------------------------------------------\u001b[0m",
      "\u001b[1;31mTypeError\u001b[0m                                 Traceback (most recent call last)",
      "\u001b[1;32m<ipython-input-2-8f92ff912c58>\u001b[0m in \u001b[0;36m<module>\u001b[1;34m()\u001b[0m\n\u001b[0;32m      2\u001b[0m \u001b[0mtr\u001b[0m\u001b[1;33m.\u001b[0m\u001b[0mst\u001b[0m\u001b[1;33m\u001b[0m\u001b[0m\n\u001b[0;32m      3\u001b[0m \u001b[0mtr\u001b[0m\u001b[1;33m.\u001b[0m\u001b[0mperimeter\u001b[0m\u001b[1;33m(\u001b[0m\u001b[1;33m)\u001b[0m\u001b[1;33m\u001b[0m\u001b[0m\n\u001b[1;32m----> 4\u001b[1;33m \u001b[0mprint\u001b[0m\u001b[1;33m(\u001b[0m\u001b[0mtr\u001b[0m\u001b[1;33m)\u001b[0m\u001b[1;33m\u001b[0m\u001b[0m\n\u001b[0m",
      "\u001b[1;32m<ipython-input-1-3de837cb17a7>\u001b[0m in \u001b[0;36m__str__\u001b[1;34m(self)\u001b[0m\n\u001b[0;32m      8\u001b[0m \u001b[1;33m\u001b[0m\u001b[0m\n\u001b[0;32m      9\u001b[0m     \u001b[1;32mdef\u001b[0m \u001b[0m__str__\u001b[0m\u001b[1;33m(\u001b[0m\u001b[0mself\u001b[0m\u001b[1;33m)\u001b[0m\u001b[1;33m:\u001b[0m\u001b[1;33m\u001b[0m\u001b[0m\n\u001b[1;32m---> 10\u001b[1;33m         \u001b[1;32mreturn\u001b[0m \u001b[1;34m'number of angles equal '\u001b[0m\u001b[1;33m+\u001b[0m \u001b[0mlen\u001b[0m\u001b[1;33m(\u001b[0m\u001b[0mself\u001b[0m\u001b[1;33m.\u001b[0m\u001b[0mst\u001b[0m\u001b[1;33m)\u001b[0m\u001b[1;33m\u001b[0m\u001b[0m\n\u001b[0m\u001b[0;32m     11\u001b[0m \u001b[1;33m\u001b[0m\u001b[0m\n",
      "\u001b[1;31mTypeError\u001b[0m: must be str, not int"
     ]
    }
   ],
   "source": [
    "tr = triangle([1, 2, 3])\n",
    "tr.st\n",
    "tr.perimeter()\n",
    "print(tr)"
   ]
  },
  {
   "cell_type": "code",
   "execution_count": null,
   "metadata": {
    "collapsed": true
   },
   "outputs": [],
   "source": []
  },
  {
   "cell_type": "markdown",
   "metadata": {},
   "source": [
    "**класс человек**\n",
    "имя name\n",
    "фамилия surname\n",
    "должность position\n",
    "телефон phone_number\n",
    "дата рождения birthdate\n",
    "сменить должность change_position\n",
    "красиво вывести имя фамилию call_me_by\n",
    "\n",
    "**класс телефонная книга**\n",
    "список людей\n",
    "добавить человека\n",
    "удалить человека (имя, фамиоия, телефон)\n",
    "поиск по имени, фамилии должности телефону\n",
    "красиво вывести\n",
    "\n",
    "**доп.**\n",
    "проверка данных на корректность\n",
    "имя фамилия это буквы, должность так же\n",
    "формат телефона \n",
    "дата рождения валидна\n",
    "при добавлении в телефонную книгу что не добавляем одного и того же человека\n",
    "функция подсчета возраста человека (в зависимости от дня рождения)"
   ]
  },
  {
   "cell_type": "code",
   "execution_count": 5,
   "metadata": {
    "collapsed": true
   },
   "outputs": [],
   "source": [
    "class person:\n",
    "    def __init__(self, name, surname, position = None, phonenumber = None, birthdate = None):\n",
    "        self.name = name\n",
    "        self.surname = surname\n",
    "        self.position = position\n",
    "        self.phonenumber = phonenumber\n",
    "        self.birthdate = birthdate\n",
    "    \n",
    "    def change_position(self, new_position):\n",
    "        self.position = new_position\n",
    "    \n",
    "    def __str__(self):\n",
    "        return self.name + ' ' + self.surname + ' ' + self.position + ' ' + self.phonenumber + ' ' + self.birthdate"
   ]
  },
  {
   "cell_type": "code",
   "execution_count": 6,
   "metadata": {},
   "outputs": [
    {
     "data": {
      "text/plain": [
       "('Гарри', 'Поттер', 'ученик', '+512367230', '14.09.1993')"
      ]
     },
     "execution_count": 6,
     "metadata": {},
     "output_type": "execute_result"
    }
   ],
   "source": [
    "p = person('Гарри', 'Поттер', 'ученик', '+512367230', '14.09.1993')\n",
    "p.name, p.surname, p.position, p.phonenumber, p.birthdate"
   ]
  },
  {
   "cell_type": "code",
   "execution_count": 7,
   "metadata": {},
   "outputs": [
    {
     "data": {
      "text/plain": [
       "('Гарри', 'Поттер', 'студент', '+512367230', '14.09.1993')"
      ]
     },
     "execution_count": 7,
     "metadata": {},
     "output_type": "execute_result"
    }
   ],
   "source": [
    "p.change_position('студент')\n",
    "p.name, p.surname, p.position, p.phonenumber, p.birthdate"
   ]
  },
  {
   "cell_type": "code",
   "execution_count": 8,
   "metadata": {},
   "outputs": [
    {
     "name": "stdout",
     "output_type": "stream",
     "text": [
      "Гарри Поттер студент +512367230 14.09.1993\n"
     ]
    }
   ],
   "source": [
    "print(p)"
   ]
  },
  {
   "cell_type": "code",
   "execution_count": 10,
   "metadata": {},
   "outputs": [],
   "source": [
    "class phonebook:\n",
    "    def __init__(self, lst):\n",
    "        self.people = lst\n",
    "        \n",
    "    def insert(self, lst):\n",
    "        self.people.append(lst)\n",
    "    \n",
    "    def delete(self, lst):\n",
    "        for i, e in enumerate(self.people):  \n",
    "            if e.name==lst [0] and e.surname==lst[1] and e.phonenumber==lst[2]:\n",
    "                self.people.pop(i)\n",
    "    \n",
    "    def search_name(self, el):\n",
    "        for i in self.people:\n",
    "            if i.name == el:\n",
    "                print(i)\n",
    "    \n",
    "    def search_surname(self, el):\n",
    "        for i in self.people:\n",
    "            if i.surname == el:\n",
    "                print(i)\n",
    "    \n",
    "    def search_position(self, el):\n",
    "        for i in self.people:\n",
    "            if i.position == el:\n",
    "                print(i)\n",
    "    \n",
    "    def search_phonenumber(self, el):\n",
    "        for i in self.people:\n",
    "            if i.phonenumber == el:\n",
    "                print(i)\n",
    "                             \n",
    "    def __str__(self):\n",
    "        lst = []\n",
    "        for i in self.people:\n",
    "            lst.append(i.name + '\\t\\t' + i.surname + '\\t\\t' + i.position + '\\t\\t' + i.phonenumber + '\\t\\t' + i.birthdate)\n",
    "        return '\\n'.join(lst)"
   ]
  },
  {
   "cell_type": "code",
   "execution_count": 11,
   "metadata": {},
   "outputs": [
    {
     "name": "stdout",
     "output_type": "stream",
     "text": [
      "Гарри\t\tПоттер\t\tстудент\t\t+512367230\t\t14.09.1993\n",
      "Максим\t\tГорький\t\tписатель\t\t+11111\t\t12.09.1796\n",
      "Антон\t\tЧехов\t\tписатель\t\t+22222\t\t04.02.1824\n",
      "Марк\t\tТвен\t\tалкоголик\t\t+33333\t\t12.12.2001\n",
      "Эдгар\t\tПо\t\tнищий\t\t+44444\t\t01.07.1807\n",
      "\n",
      "Гарри\t\tПоттер\t\tстудент\t\t+512367230\t\t14.09.1993\n",
      "Максим\t\tГорький\t\tписатель\t\t+11111\t\t12.09.1796\n",
      "Антон\t\tЧехов\t\tписатель\t\t+22222\t\t04.02.1824\n",
      "Эдгар\t\tПо\t\tнищий\t\t+44444\t\t01.07.1807\n",
      "\n",
      "Максим Горький писатель +11111 12.09.1796\n",
      "Антон Чехов писатель +22222 04.02.1824\n"
     ]
    }
   ],
   "source": [
    "p1 = person('Максим', 'Горький', 'писатель', '+11111', '12.09.1796')\n",
    "p2 = person('Антон', 'Чехов', 'писатель', '+22222', '04.02.1824')\n",
    "p3 = person('Марк', 'Твен', 'алкоголик', '+33333', '12.12.2001')\n",
    "people = [p, p1, p2, p3]\n",
    "p4 = person('Эдгар', 'По', 'нищий', '+44444', '01.07.1807')\n",
    "\n",
    "book = phonebook(people)\n",
    "book.insert(p4)\n",
    "print(book)\n",
    "book.delete(['Марк', 'Твен', '+33333'])\n",
    "print()\n",
    "print(book)\n",
    "print()\n",
    "#book.search_name('Антон')\n",
    "#book.search_surname('По')\n",
    "book.search_position('писатель') \n",
    "#book.search_phonenumber('+11111')"
   ]
  },
  {
   "cell_type": "code",
   "execution_count": null,
   "metadata": {
    "collapsed": true
   },
   "outputs": [],
   "source": []
  }
 ],
 "metadata": {
  "kernelspec": {
   "display_name": "Python 3",
   "language": "python",
   "name": "python3"
  }
 },
 "nbformat": 4,
 "nbformat_minor": 2
}
